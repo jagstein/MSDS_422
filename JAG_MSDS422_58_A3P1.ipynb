{
  "nbformat": 4,
  "nbformat_minor": 0,
  "metadata": {
    "colab": {
      "name": "JAG_MSDS422_58_A3P1.ipynb",
      "provenance": [],
      "collapsed_sections": []
    },
    "kernelspec": {
      "name": "python3",
      "display_name": "Python 3"
    }
  },
  "cells": [
    {
      "cell_type": "markdown",
      "metadata": {
        "id": "QqySA4n0jrHK"
      },
      "source": [
        "# A3P1: So here's a number\r\n",
        "We'll be using multilayer perceptrons to identify handwritten numbers. As usual, we'll begin by importing some libraries"
      ]
    },
    {
      "cell_type": "code",
      "metadata": {
        "id": "OdfuamwRjC2G"
      },
      "source": [
        "# imports\r\n",
        "import pandas as pd\r\n",
        "import os\r\n",
        "import matplotlib.pyplot as plt\r\n",
        "import numpy as np"
      ],
      "execution_count": null,
      "outputs": []
    },
    {
      "cell_type": "code",
      "metadata": {
        "colab": {
          "base_uri": "https://localhost:8080/",
          "height": 206
        },
        "id": "GW6SpYd4jkR_",
        "outputId": "185a3017-2700-495e-f9b3-672b4feafaf6"
      },
      "source": [
        "# the images are stored as a couple of pickles\r\n",
        "my_drive = 'drive/MyDrive/MSDS_422/assign-3-part-1/'\r\n",
        "Ntrain = pd.read_pickle(os.path.join(my_drive, 'assign-3-part-1-train.pickle'))\r\n",
        "Ntrain.shape # (40320, 786) 40,320 images, 28 x 28 pixels \r\n",
        "Ntrain[Ntrain.columns[0:10]].head() # lets look at the head"
      ],
      "execution_count": null,
      "outputs": [
        {
          "output_type": "execute_result",
          "data": {
            "text/html": [
              "<div>\n",
              "<style scoped>\n",
              "    .dataframe tbody tr th:only-of-type {\n",
              "        vertical-align: middle;\n",
              "    }\n",
              "\n",
              "    .dataframe tbody tr th {\n",
              "        vertical-align: top;\n",
              "    }\n",
              "\n",
              "    .dataframe thead th {\n",
              "        text-align: right;\n",
              "    }\n",
              "</style>\n",
              "<table border=\"1\" class=\"dataframe\">\n",
              "  <thead>\n",
              "    <tr style=\"text-align: right;\">\n",
              "      <th></th>\n",
              "      <th>label</th>\n",
              "      <th>pixel0</th>\n",
              "      <th>pixel1</th>\n",
              "      <th>pixel2</th>\n",
              "      <th>pixel3</th>\n",
              "      <th>pixel4</th>\n",
              "      <th>pixel5</th>\n",
              "      <th>pixel6</th>\n",
              "      <th>pixel7</th>\n",
              "      <th>pixel8</th>\n",
              "    </tr>\n",
              "  </thead>\n",
              "  <tbody>\n",
              "    <tr>\n",
              "      <th>40162</th>\n",
              "      <td>2</td>\n",
              "      <td>0</td>\n",
              "      <td>0</td>\n",
              "      <td>0</td>\n",
              "      <td>0</td>\n",
              "      <td>0</td>\n",
              "      <td>0</td>\n",
              "      <td>0</td>\n",
              "      <td>0</td>\n",
              "      <td>0</td>\n",
              "    </tr>\n",
              "    <tr>\n",
              "      <th>36992</th>\n",
              "      <td>1</td>\n",
              "      <td>0</td>\n",
              "      <td>0</td>\n",
              "      <td>0</td>\n",
              "      <td>0</td>\n",
              "      <td>0</td>\n",
              "      <td>0</td>\n",
              "      <td>0</td>\n",
              "      <td>0</td>\n",
              "      <td>0</td>\n",
              "    </tr>\n",
              "    <tr>\n",
              "      <th>39884</th>\n",
              "      <td>1</td>\n",
              "      <td>0</td>\n",
              "      <td>0</td>\n",
              "      <td>0</td>\n",
              "      <td>0</td>\n",
              "      <td>0</td>\n",
              "      <td>0</td>\n",
              "      <td>0</td>\n",
              "      <td>0</td>\n",
              "      <td>0</td>\n",
              "    </tr>\n",
              "    <tr>\n",
              "      <th>10946</th>\n",
              "      <td>0</td>\n",
              "      <td>0</td>\n",
              "      <td>0</td>\n",
              "      <td>0</td>\n",
              "      <td>0</td>\n",
              "      <td>0</td>\n",
              "      <td>0</td>\n",
              "      <td>0</td>\n",
              "      <td>0</td>\n",
              "      <td>0</td>\n",
              "    </tr>\n",
              "    <tr>\n",
              "      <th>13921</th>\n",
              "      <td>2</td>\n",
              "      <td>0</td>\n",
              "      <td>0</td>\n",
              "      <td>0</td>\n",
              "      <td>0</td>\n",
              "      <td>0</td>\n",
              "      <td>0</td>\n",
              "      <td>0</td>\n",
              "      <td>0</td>\n",
              "      <td>0</td>\n",
              "    </tr>\n",
              "  </tbody>\n",
              "</table>\n",
              "</div>"
            ],
            "text/plain": [
              "       label  pixel0  pixel1  pixel2  ...  pixel5  pixel6  pixel7  pixel8\n",
              "40162      2       0       0       0  ...       0       0       0       0\n",
              "36992      1       0       0       0  ...       0       0       0       0\n",
              "39884      1       0       0       0  ...       0       0       0       0\n",
              "10946      0       0       0       0  ...       0       0       0       0\n",
              "13921      2       0       0       0  ...       0       0       0       0\n",
              "\n",
              "[5 rows x 10 columns]"
            ]
          },
          "metadata": {
            "tags": []
          },
          "execution_count": 9
        }
      ]
    },
    {
      "cell_type": "markdown",
      "metadata": {
        "id": "DBb1M4cSlP3v"
      },
      "source": [
        "There is a label, 784 pixel values 0-255, representing a 28 x 28 pixel image and an image number (representing the source??)\r\n",
        "<p>\r\n",
        "Dataframe is an odd way to show this. Can we look at them like the people do?"
      ]
    },
    {
      "cell_type": "code",
      "metadata": {
        "colab": {
          "base_uri": "https://localhost:8080/",
          "height": 536
        },
        "id": "rJFYYHE0lrBh",
        "outputId": "2f057fa4-b95e-4fc2-f835-b81756e65573"
      },
      "source": [
        "fig, ax = plt.subplots(3, 3, figsize = (9,9)) # lets make a figure\r\n",
        "for i in range(1, 10): # 9 pieces - matplotlib wants #1-9, not 0-8\r\n",
        "  ax = plt.subplot(3, 3, i) # set subplot\r\n",
        "  pick = Ntrain.sample(1, random_state = i) # pick a row\r\n",
        "  label = int(pick['label']) # label = for our row\r\n",
        "  img = pick.drop(['label', 'imageID'], axis = 1) # pixel values\r\n",
        "  img = np.array(img) #convert pixels to array\r\n",
        "  img = np.reshape(img, (28,28)) # reshape ot 28x28\r\n",
        "  plt.imshow(img, cmap='gray_r') # show image - invert so pen is black\r\n",
        "  ax.set_title(label) # title is label\r\n",
        "  plt.axis('off')"
      ],
      "execution_count": null,
      "outputs": [
        {
          "output_type": "display_data",
          "data": {
            "image/png": "[encoded data removed]",
            "text/plain": [
              "<Figure size 648x648 with 9 Axes>"
            ]
          },
          "metadata": {
            "tags": [],
            "needs_background": "light"
          }
        }
      ]
    },
    {
      "cell_type": "markdown",
      "metadata": {
        "id": "uG6mmbYIuTDi"
      },
      "source": [
        "These labels look correct. Incorrect labels are the bane of machine learning, but I don't feel like looking at all 43k at once. Perhaps machine learning can help us find them?"
      ]
    },
    {
      "cell_type": "code",
      "metadata": {
        "colab": {
          "base_uri": "https://localhost:8080/"
        },
        "id": "mNIUtOIXqXz-",
        "outputId": "ae925be7-e475-4c14-a089-ce3712461e09"
      },
      "source": [
        "# we'll define our training and validation data sets (test is another pickle)\r\n",
        "from sklearn.model_selection import train_test_split\r\n",
        "y = Ntrain['label'].to_numpy().astype(np.int32) #target as int array\r\n",
        "X = np.array(Ntrain.drop(['label', 'imageID'], axis = 1)) #values\r\n",
        "np.min(X) # 0 # checking values are valid for an image (0-255)\r\n",
        "np.max(X) # 255\r\n",
        "X = X.astype(np.float32) / 255. # rescale to 0-1, set as float\r\n",
        "trainX, valX, trainy, valy = train_test_split(X, y, # splits\r\n",
        "                              test_size = 0.2, random_state = 21)\r\n",
        "trainX.shape"
      ],
      "execution_count": null,
      "outputs": [
        {
          "output_type": "execute_result",
          "data": {
            "text/plain": [
              "(32256, 784)"
            ]
          },
          "metadata": {
            "tags": []
          },
          "execution_count": 25
        }
      ]
    },
    {
      "cell_type": "markdown",
      "metadata": {
        "id": "pHAHKnWjInUz"
      },
      "source": [
        "# building the model\r\n",
        "we'll define a multilayer perceptron, which inputs the data, then passes it through a series of fully connected (dense) layers. Here, dense refers to the connections, not the acumen of the programmer (hopefully). We'll use rectified linear activation (if x <0: 0; else x) in between the layers. The final layer has 10 weights - 1 for each digit, and gives a softmax activation so the final result is an array of 10 values - the one with the highest weight is the models guess."
      ]
    },
    {
      "cell_type": "code",
      "metadata": {
        "colab": {
          "base_uri": "https://localhost:8080/"
        },
        "id": "3Ly-zt1fqaVh",
        "outputId": "a5d2a9dd-ca15-4862-b53f-4487ff97e8b0"
      },
      "source": [
        "import tensorflow as tf\r\n",
        "from tensorflow import keras\r\n",
        "# modified from Geron - our input is already flattened\r\n",
        "model = keras.models.Sequential([ # 1-D model\r\n",
        "  keras.layers.Input(shape = [784]), # 784 pixels\r\n",
        "  keras.layers.Dense(300, activation = 'relu'), # 300 neurons\r\n",
        "  keras.layers.Dense(100, activation = 'relu'), # 100 neurons\r\n",
        "  keras.layers.Dense(10, activation = 'softmax') # 10 possible answers\r\n",
        "], name='base_model')\r\n",
        "model.summary()"
      ],
      "execution_count": null,
      "outputs": [
        {
          "output_type": "stream",
          "text": [
            "Model: \"base_model\"\n",
            "_________________________________________________________________\n",
            "Layer (type)                 Output Shape              Param #   \n",
            "=================================================================\n",
            "dense_22 (Dense)             (None, 300)               235500    \n",
            "_________________________________________________________________\n",
            "dense_23 (Dense)             (None, 100)               30100     \n",
            "_________________________________________________________________\n",
            "dense_24 (Dense)             (None, 10)                1010      \n",
            "=================================================================\n",
            "Total params: 266,610\n",
            "Trainable params: 266,610\n",
            "Non-trainable params: 0\n",
            "_________________________________________________________________\n"
          ],
          "name": "stdout"
        }
      ]
    },
    {
      "cell_type": "code",
      "metadata": {
        "id": "4HkZuztZK7aE"
      },
      "source": [
        "# compile the model, set optimizer + metrics\r\n",
        "model.compile(\r\n",
        "    loss = \"sparse_categorical_crossentropy\", #penalize degree of wrongness\r\n",
        "    optimizer = keras.optimizers.SGD(lr=0.01), #explicit LR - can change later\r\n",
        "    metrics = ['accuracy'])"
      ],
      "execution_count": null,
      "outputs": []
    },
    {
      "cell_type": "code",
      "metadata": {
        "colab": {
          "base_uri": "https://localhost:8080/"
        },
        "id": "MP72mnagLhk4",
        "outputId": "d67030c3-8c23-484a-970a-c95f79454a03"
      },
      "source": [
        "# fit -> watch the bars go by\r\n",
        "history = model.fit(trainX, trainy, epochs = 10, batch_size= 32,\r\n",
        "                  validation_data = (valX,valy))"
      ],
      "execution_count": null,
      "outputs": [
        {
          "output_type": "stream",
          "text": [
            "Epoch 1/10\n",
            "1008/1008 [==============================] - 4s 4ms/step - loss: 1.2596 - accuracy: 0.6585 - val_loss: 0.3910 - val_accuracy: 0.8899\n",
            "Epoch 2/10\n",
            "1008/1008 [==============================] - 4s 4ms/step - loss: 0.3575 - accuracy: 0.9013 - val_loss: 0.3072 - val_accuracy: 0.9106\n",
            "Epoch 3/10\n",
            "1008/1008 [==============================] - 4s 4ms/step - loss: 0.2871 - accuracy: 0.9163 - val_loss: 0.2679 - val_accuracy: 0.9213\n",
            "Epoch 4/10\n",
            "1008/1008 [==============================] - 4s 4ms/step - loss: 0.2593 - accuracy: 0.9273 - val_loss: 0.2425 - val_accuracy: 0.9292\n",
            "Epoch 5/10\n",
            "1008/1008 [==============================] - 4s 4ms/step - loss: 0.2198 - accuracy: 0.9380 - val_loss: 0.2213 - val_accuracy: 0.9340\n",
            "Epoch 6/10\n",
            "1008/1008 [==============================] - 4s 4ms/step - loss: 0.1951 - accuracy: 0.9449 - val_loss: 0.2066 - val_accuracy: 0.9384\n",
            "Epoch 7/10\n",
            "1008/1008 [==============================] - 4s 4ms/step - loss: 0.1757 - accuracy: 0.9496 - val_loss: 0.1892 - val_accuracy: 0.9433\n",
            "Epoch 8/10\n",
            "1008/1008 [==============================] - 4s 4ms/step - loss: 0.1660 - accuracy: 0.9540 - val_loss: 0.1766 - val_accuracy: 0.9474\n",
            "Epoch 9/10\n",
            "1008/1008 [==============================] - 4s 3ms/step - loss: 0.1522 - accuracy: 0.9566 - val_loss: 0.1730 - val_accuracy: 0.9480\n",
            "Epoch 10/10\n",
            "1008/1008 [==============================] - 4s 4ms/step - loss: 0.1459 - accuracy: 0.9587 - val_loss: 0.1562 - val_accuracy: 0.9547\n"
          ],
          "name": "stdout"
        }
      ]
    },
    {
      "cell_type": "markdown",
      "metadata": {
        "id": "Pp1p1XKrOWKo"
      },
      "source": [
        "This is very good. Given the very high accuracy can we look for mislabeled numbers?"
      ]
    },
    {
      "cell_type": "code",
      "metadata": {
        "colab": {
          "base_uri": "https://localhost:8080/",
          "height": 536
        },
        "id": "eG-_YgXCeAoA",
        "outputId": "c8bf58a0-9927-44df-9c41-3af75d0ab2bd"
      },
      "source": [
        "preds = model.predict(trainX) # predict the numbers\r\n",
        "preds = np.argmax(preds, axis = 1) # convert probabilites to predictions\r\n",
        "wrong_finder = pd.DataFrame({'label':trainy, 'prediction':preds})\r\n",
        "re_X = pd.DataFrame(trainX).add_prefix('pixel_') # re-engineer x values\r\n",
        "re_X = (re_X * 255).astype(np.uint8)\r\n",
        "wrong_finder = pd.concat([wrong_finder, re_X], axis = 1)\r\n",
        "wrong_finder = wrong_finder[wrong_finder['label'] != wrong_finder['prediction']]\r\n",
        "wrong_finder.shape #(575, 786)\r\n",
        "fig, ax = plt.subplots(3, 3, figsize = (9,9)) # lets make a figure\r\n",
        "for i in range(1, 10): # 9 pieces - matplotlib wants #1-9, not 0-8\r\n",
        "  ax = plt.subplot(3, 3, i) # set subplot\r\n",
        "  pick = wrong_finder.sample(1, random_state = i *9) # pick a row\r\n",
        "  label = int(pick['label']) # label = for our row\r\n",
        "  pred = int(pick['prediction']) # prediction\r\n",
        "  img = pick.drop(['label', 'prediction'], axis = 1) # pixel values\r\n",
        "  img = np.array(img) #convert pixels to array\r\n",
        "  img = np.reshape(img, (28,28)) # reshape ot 28x28\r\n",
        "  plt.imshow(img, cmap='gray_r') # show image - invert so pen is black\r\n",
        "  ax.set_title(f'is: {label}, pred: {pred}') # title is label and guess\r\n",
        "  plt.axis('off')"
      ],
      "execution_count": null,
      "outputs": [
        {
          "output_type": "display_data",
          "data": {
            "image/png": "[encoded data removed]",
            "text/plain": [
              "<Figure size 648x648 with 9 Axes>"
            ]
          },
          "metadata": {
            "tags": [],
            "needs_background": "light"
          }
        }
      ]
    },
    {
      "cell_type": "markdown",
      "metadata": {
        "id": "BGxybkOihsXg"
      },
      "source": [
        "1. The model is making reasonable mistakes. We could use a confusion matrix to investigate further.\r\n",
        "2. One number (bottom left) appears mislabeled - I agree with the model that it's a 5 and not a 3. Exhaustively weeding these out could help improve model accuracy."
      ]
    },
    {
      "cell_type": "markdown",
      "metadata": {
        "id": "6mNYZUvbQIlX"
      },
      "source": [
        "# tuning hyperparameters\r\n",
        "We're going to define and train 4 models which differ in the number of layers and neurons. \r\n",
        "<p> As a reminder, the baseline model is: <p>\r\n",
        "\r\n",
        "1.   input 784 pixels\r\n",
        "2.   fully connected, 300 neurons\r\n",
        "3.   fully connected, 100 neurons\r\n",
        "4. fully connected, 10 neurons, softmax\r\n",
        "\r\n",
        "1 and 4 are invariant. We'll do:\r\n",
        "* More layers: (300 -> 200 -> 100 -> 50 -> 10)\r\n",
        "* Fewer layers (300 -> 10)\r\n",
        "* Fewer neurons (100 -> 25 -> 10)\r\n",
        "* Way fewer neurons (10 -> 5 -> 10)\r\n",
        "\r\n",
        "We'll consider time and accuracy for these models. Changing optimizers, LR, and number of epochs are common hyperparameters. Gerons suggests removing the outer pixel as it is (almost?) always blank. Given the data, going to a simpler datatype is reasonable. float16 is very hot right now, but it looks so black and white I would consider going all the way to binary."
      ]
    },
    {
      "cell_type": "markdown",
      "metadata": {
        "id": "8RMSDBf6TvuQ"
      },
      "source": [
        "# defining variant models\r\n",
        "I'll do this explicitly. I have tried more \"pythonic\" ways of building these models (e.g. for loops, methods, cramming it into GridSearchCV), but the space savings were not proportionate to the decrease in legibility or use of programmer time (the only truly limited resource!).\r\n",
        "<p>\r\n",
        "Next time, I might try keras-tuner: https://keras-team.github.io/keras-tuner/\r\n",
        "\r\n"
      ]
    },
    {
      "cell_type": "code",
      "metadata": {
        "id": "XqY_xdPoOMZB"
      },
      "source": [
        "# more layers\r\n",
        "model_more_layers = keras.models.Sequential([\r\n",
        "  keras.layers.Input(shape = [784]),\r\n",
        "  keras.layers.Dense(300, activation = 'relu'),\r\n",
        "  keras.layers.Dense(200, activation = 'relu'), # added layer\r\n",
        "  keras.layers.Dense(100, activation = 'relu'),\r\n",
        "  keras.layers.Dense(50, activation = 'relu'), # added layer\r\n",
        "  keras.layers.Dense(10, activation = 'softmax')\r\n",
        "], name='more_layers')\r\n",
        "\r\n",
        "# fewer layers\r\n",
        "model_fewer_layers = keras.models.Sequential([ # 1-D model\r\n",
        "  keras.layers.Input(shape = [784]), # 784 pixels\r\n",
        "  keras.layers.Dense(300, activation = 'relu'),\r\n",
        "  # skipped the 100 neuron layer\r\n",
        "  keras.layers.Dense(10, activation = 'softmax') # 10 possible answers\r\n",
        "], name='fewer_layers')\r\n",
        "\r\n",
        "# fewer neurons\r\n",
        "model_fewer_neurons = keras.models.Sequential([\r\n",
        "  keras.layers.Input(shape = [784]),\r\n",
        "  keras.layers.Dense(100, activation = 'relu'), # 300 -> 100 neurons\r\n",
        "  keras.layers.Dense(25, activation = 'relu'), # 100 -> 25 neurons\r\n",
        "  keras.layers.Dense(10, activation = 'softmax')\r\n",
        "], name='fewer_neurons')\r\n",
        "\r\n",
        "# way fewer neurons -> I'm worried about this one\r\n",
        "model_way_fewer_neurons = keras.models.Sequential([\r\n",
        "  keras.layers.Input(shape = [784]),\r\n",
        "  keras.layers.Dense(10, activation = 'relu'), # 300 -> 10 neurons\r\n",
        "  keras.layers.Dense(5, activation = 'relu'), # 100 -> 5 neurons\r\n",
        "  keras.layers.Dense(10, activation = 'softmax')\r\n",
        "], name='way_fewer_neurons')"
      ],
      "execution_count": null,
      "outputs": []
    },
    {
      "cell_type": "markdown",
      "metadata": {
        "id": "2r_BEAI5Tsa3"
      },
      "source": [
        "# testing variants"
      ]
    },
    {
      "cell_type": "code",
      "metadata": {
        "colab": {
          "base_uri": "https://localhost:8080/",
          "height": 206
        },
        "id": "5ionRbqNTsNR",
        "outputId": "51fdb2dc-7dac-4291-a94b-9ea8a5948fb0"
      },
      "source": [
        "# setup - typically keras shuffles data (randomly) and layers are randomly\r\n",
        "# initialized. Here is some code to fix that. \r\n",
        "# Source: https://keras.io/getting_started/faq/\r\n",
        "import random as python_random\r\n",
        "\r\n",
        "!PYTHONHASHSEED=0\r\n",
        "np.random.seed(21)\r\n",
        "python_random.seed(21)\r\n",
        "tf.random.set_seed(21)\r\n",
        "\r\n",
        "from timeit import default_timer as timer # timing program\r\n",
        "\r\n",
        "variants = [model, # baseline\r\n",
        "            model_more_layers, model_fewer_layers, #change layers\r\n",
        "            model_fewer_neurons, model_way_fewer_neurons] # change neurons\r\n",
        "resList=[] # for storing our results\r\n",
        "resToPlot = [] # for making a graph\r\n",
        "for variant in variants:\r\n",
        "  variant.compile(\r\n",
        "      loss = \"sparse_categorical_crossentropy\", #penalize degree of wrongness\r\n",
        "      optimizer = keras.optimizers.SGD(lr=0.01), #explicit LR - can change later\r\n",
        "      metrics = ['accuracy'])\r\n",
        "  start = timer() # time training\r\n",
        "  history = variant.fit(trainX, trainy, epochs = 10, batch_size= 32, \r\n",
        "                  verbose = 0, # no printout -> slows it down\r\n",
        "                  validation_data = (valX,valy))\r\n",
        "  end = timer()\r\n",
        "  elapsed = end - start\r\n",
        "  resList.append({'model': variant.name,\r\n",
        "    'val_accuracy':history.history['val_accuracy'][-1],\r\n",
        "    'train_accuracy':history.history['accuracy'][-1],\r\n",
        "    'train_val_time':elapsed})\r\n",
        "  resToPlot.append({'model':variant.name, \r\n",
        "          'val_accs':history.history['val_accuracy']})\r\n",
        "\r\n",
        "result = pd.DataFrame(resList)\r\n",
        "result"
      ],
      "execution_count": null,
      "outputs": [
        {
          "output_type": "execute_result",
          "data": {
            "text/html": [
              "<div>\n",
              "<style scoped>\n",
              "    .dataframe tbody tr th:only-of-type {\n",
              "        vertical-align: middle;\n",
              "    }\n",
              "\n",
              "    .dataframe tbody tr th {\n",
              "        vertical-align: top;\n",
              "    }\n",
              "\n",
              "    .dataframe thead th {\n",
              "        text-align: right;\n",
              "    }\n",
              "</style>\n",
              "<table border=\"1\" class=\"dataframe\">\n",
              "  <thead>\n",
              "    <tr style=\"text-align: right;\">\n",
              "      <th></th>\n",
              "      <th>model</th>\n",
              "      <th>val_accuracy</th>\n",
              "      <th>train_accuracy</th>\n",
              "      <th>train_val_time</th>\n",
              "    </tr>\n",
              "  </thead>\n",
              "  <tbody>\n",
              "    <tr>\n",
              "      <th>0</th>\n",
              "      <td>base_model</td>\n",
              "      <td>0.967262</td>\n",
              "      <td>0.979942</td>\n",
              "      <td>28.286227</td>\n",
              "    </tr>\n",
              "    <tr>\n",
              "      <th>1</th>\n",
              "      <td>more_layers</td>\n",
              "      <td>0.964906</td>\n",
              "      <td>0.975074</td>\n",
              "      <td>33.468207</td>\n",
              "    </tr>\n",
              "    <tr>\n",
              "      <th>2</th>\n",
              "      <td>fewer_layers</td>\n",
              "      <td>0.937128</td>\n",
              "      <td>0.943452</td>\n",
              "      <td>24.667147</td>\n",
              "    </tr>\n",
              "    <tr>\n",
              "      <th>3</th>\n",
              "      <td>fewer_neurons</td>\n",
              "      <td>0.947421</td>\n",
              "      <td>0.954365</td>\n",
              "      <td>15.846925</td>\n",
              "    </tr>\n",
              "    <tr>\n",
              "      <th>4</th>\n",
              "      <td>way_fewer_neurons</td>\n",
              "      <td>0.891989</td>\n",
              "      <td>0.893911</td>\n",
              "      <td>11.105047</td>\n",
              "    </tr>\n",
              "  </tbody>\n",
              "</table>\n",
              "</div>"
            ],
            "text/plain": [
              "               model  val_accuracy  train_accuracy  train_val_time\n",
              "0         base_model      0.967262        0.979942       28.286227\n",
              "1        more_layers      0.964906        0.975074       33.468207\n",
              "2       fewer_layers      0.937128        0.943452       24.667147\n",
              "3      fewer_neurons      0.947421        0.954365       15.846925\n",
              "4  way_fewer_neurons      0.891989        0.893911       11.105047"
            ]
          },
          "metadata": {
            "tags": []
          },
          "execution_count": 77
        }
      ]
    },
    {
      "cell_type": "markdown",
      "metadata": {
        "id": "GHbrnt-vjLol"
      },
      "source": [
        "The base model (a literal \"textbook answer\") has the highest accuracy. Adding layers slows the model down without increasing accuracy. Removing neurons gives a significant speed boost with mild drop in accuracy. That may or may not be worth it. If a mismatch triggers manual review a drop inaccuracy from 96 to 94 percent increases the number of digits for manual review by 50% (from 4% to 6%). "
      ]
    },
    {
      "cell_type": "code",
      "metadata": {
        "colab": {
          "base_uri": "https://localhost:8080/",
          "height": 302
        },
        "id": "OuNpu5F3XuG3",
        "outputId": "472a97b9-c485-41cc-a046-08597e1ae3a5"
      },
      "source": [
        "labels = []\r\n",
        "fig, ax = plt.subplots()\r\n",
        "for result in resToPlot:\r\n",
        "  plt.scatter(range(1,11), result['val_accs'])\r\n",
        "  labels.append(result['model'])\r\n",
        "plt.xlabel('Epochs')\r\n",
        "plt.ylabel('Validation accuracy')\r\n",
        "ax.set_ylim(0.30, 1)\r\n",
        "plt.legend(labels=labels)"
      ],
      "execution_count": null,
      "outputs": [
        {
          "output_type": "execute_result",
          "data": {
            "text/plain": [
              "<matplotlib.legend.Legend at 0x7f129d304588>"
            ]
          },
          "metadata": {
            "tags": []
          },
          "execution_count": 104
        },
        {
          "output_type": "display_data",
          "data": {
            "image/png": "[encoded data removed]",
            "text/plain": [
              "<Figure size 432x288 with 1 Axes>"
            ]
          },
          "metadata": {
            "tags": [],
            "needs_background": "light"
          }
        }
      ]
    },
    {
      "cell_type": "markdown",
      "metadata": {
        "id": "nCD3ksIkiwzy"
      },
      "source": [
        "The models seem to have reached an end-state after 10 epochs, so that's sufficient. We also didn't see any big drops in accuracy or (much) drooping in the accuracy that would be concerning for overfitting."
      ]
    },
    {
      "cell_type": "markdown",
      "metadata": {
        "id": "UHl2EymIkXoB"
      },
      "source": [
        "# kaggle \r\n",
        "In the next step, we'll prepare the (unlabled) testing data and submit for grading by kaggle\r\n",
        "Use whichever version of your models, above, that is your \"best\" (i.e., most accurate) one, to predict the labels for the data in the separate test file. Be sure to remember to apply any preprocessing transformations.\r\n",
        "Put your label predictions in a csv file that has two columns, \"imageID\", and \"label\" The values for imageID are those that are in the test data file. The values for \"label\" should be integers from 0 to 9.\r\n",
        "Instructions for uploading your predictions to Kaggle for scoring will be provided separately"
      ]
    },
    {
      "cell_type": "code",
      "metadata": {
        "colab": {
          "base_uri": "https://localhost:8080/",
          "height": 206
        },
        "id": "tGarmYnQWn_A",
        "outputId": "191fc553-4368-41e3-ffb4-e730a5bbd9f9"
      },
      "source": [
        "Ntest = pd.read_pickle(os.path.join(my_drive, 'assign-3-part-1-test.pickle'))\r\n",
        "Ntest.shape # (40320, 786) 40,320 images, 28 x 28 pixels \r\n",
        "Ntest[Ntest.columns[0:10]].head() # lets look at the head"
      ],
      "execution_count": null,
      "outputs": [
        {
          "output_type": "execute_result",
          "data": {
            "text/html": [
              "<div>\n",
              "<style scoped>\n",
              "    .dataframe tbody tr th:only-of-type {\n",
              "        vertical-align: middle;\n",
              "    }\n",
              "\n",
              "    .dataframe tbody tr th {\n",
              "        vertical-align: top;\n",
              "    }\n",
              "\n",
              "    .dataframe thead th {\n",
              "        text-align: right;\n",
              "    }\n",
              "</style>\n",
              "<table border=\"1\" class=\"dataframe\">\n",
              "  <thead>\n",
              "    <tr style=\"text-align: right;\">\n",
              "      <th></th>\n",
              "      <th>label</th>\n",
              "      <th>pixel0</th>\n",
              "      <th>pixel1</th>\n",
              "      <th>pixel2</th>\n",
              "      <th>pixel3</th>\n",
              "      <th>pixel4</th>\n",
              "      <th>pixel5</th>\n",
              "      <th>pixel6</th>\n",
              "      <th>pixel7</th>\n",
              "      <th>pixel8</th>\n",
              "    </tr>\n",
              "  </thead>\n",
              "  <tbody>\n",
              "    <tr>\n",
              "      <th>38840</th>\n",
              "      <td>NaN</td>\n",
              "      <td>0</td>\n",
              "      <td>0</td>\n",
              "      <td>0</td>\n",
              "      <td>0</td>\n",
              "      <td>0</td>\n",
              "      <td>0</td>\n",
              "      <td>0</td>\n",
              "      <td>0</td>\n",
              "      <td>0</td>\n",
              "    </tr>\n",
              "    <tr>\n",
              "      <th>6003</th>\n",
              "      <td>NaN</td>\n",
              "      <td>0</td>\n",
              "      <td>0</td>\n",
              "      <td>0</td>\n",
              "      <td>0</td>\n",
              "      <td>0</td>\n",
              "      <td>0</td>\n",
              "      <td>0</td>\n",
              "      <td>0</td>\n",
              "      <td>0</td>\n",
              "    </tr>\n",
              "    <tr>\n",
              "      <th>8977</th>\n",
              "      <td>NaN</td>\n",
              "      <td>0</td>\n",
              "      <td>0</td>\n",
              "      <td>0</td>\n",
              "      <td>0</td>\n",
              "      <td>0</td>\n",
              "      <td>0</td>\n",
              "      <td>0</td>\n",
              "      <td>0</td>\n",
              "      <td>0</td>\n",
              "    </tr>\n",
              "    <tr>\n",
              "      <th>27361</th>\n",
              "      <td>NaN</td>\n",
              "      <td>0</td>\n",
              "      <td>0</td>\n",
              "      <td>0</td>\n",
              "      <td>0</td>\n",
              "      <td>0</td>\n",
              "      <td>0</td>\n",
              "      <td>0</td>\n",
              "      <td>0</td>\n",
              "      <td>0</td>\n",
              "    </tr>\n",
              "    <tr>\n",
              "      <th>16614</th>\n",
              "      <td>NaN</td>\n",
              "      <td>0</td>\n",
              "      <td>0</td>\n",
              "      <td>0</td>\n",
              "      <td>0</td>\n",
              "      <td>0</td>\n",
              "      <td>0</td>\n",
              "      <td>0</td>\n",
              "      <td>0</td>\n",
              "      <td>0</td>\n",
              "    </tr>\n",
              "  </tbody>\n",
              "</table>\n",
              "</div>"
            ],
            "text/plain": [
              "       label  pixel0  pixel1  pixel2  ...  pixel5  pixel6  pixel7  pixel8\n",
              "38840    NaN       0       0       0  ...       0       0       0       0\n",
              "6003     NaN       0       0       0  ...       0       0       0       0\n",
              "8977     NaN       0       0       0  ...       0       0       0       0\n",
              "27361    NaN       0       0       0  ...       0       0       0       0\n",
              "16614    NaN       0       0       0  ...       0       0       0       0\n",
              "\n",
              "[5 rows x 10 columns]"
            ]
          },
          "metadata": {
            "tags": []
          },
          "execution_count": 105
        }
      ]
    },
    {
      "cell_type": "code",
      "metadata": {
        "colab": {
          "base_uri": "https://localhost:8080/",
          "height": 225
        },
        "id": "Ip33xPb0lBH5",
        "outputId": "fa9914be-db73-4c34-f2aa-1f8f5a1ba26c"
      },
      "source": [
        "testy = Ntest['label'].to_numpy().astype(np.int32) #target as int array\r\n",
        "testX = np.array(Ntest.drop(['label', 'imageID'], axis = 1)) #values\r\n",
        "np.min(testX) # 0 # checking values are valid for an image (0-255)\r\n",
        "np.max(testX) # 255\r\n",
        "testX = testX.astype(np.float32) / 255. # rescale to 0-1, set as float\r\n",
        "print (testX.shape)\r\n",
        "testPreds = model.predict(testX).argmax(axis = 1)\r\n",
        "testguess = pd.DataFrame({'label':testPreds, \r\n",
        "                          'imageID':Ntest['imageID'].to_numpy()}, index=None)\r\n",
        "testguess.to_csv(os.path.join(my_drive, 'test_guess.csv'))\r\n",
        "testguess.head()"
      ],
      "execution_count": null,
      "outputs": [
        {
          "output_type": "stream",
          "text": [
            "(1680, 784)\n"
          ],
          "name": "stdout"
        },
        {
          "output_type": "execute_result",
          "data": {
            "text/html": [
              "<div>\n",
              "<style scoped>\n",
              "    .dataframe tbody tr th:only-of-type {\n",
              "        vertical-align: middle;\n",
              "    }\n",
              "\n",
              "    .dataframe tbody tr th {\n",
              "        vertical-align: top;\n",
              "    }\n",
              "\n",
              "    .dataframe thead th {\n",
              "        text-align: right;\n",
              "    }\n",
              "</style>\n",
              "<table border=\"1\" class=\"dataframe\">\n",
              "  <thead>\n",
              "    <tr style=\"text-align: right;\">\n",
              "      <th></th>\n",
              "      <th>label</th>\n",
              "      <th>imageID</th>\n",
              "    </tr>\n",
              "  </thead>\n",
              "  <tbody>\n",
              "    <tr>\n",
              "      <th>0</th>\n",
              "      <td>2</td>\n",
              "      <td>31806</td>\n",
              "    </tr>\n",
              "    <tr>\n",
              "      <th>1</th>\n",
              "      <td>6</td>\n",
              "      <td>35802</td>\n",
              "    </tr>\n",
              "    <tr>\n",
              "      <th>2</th>\n",
              "      <td>4</td>\n",
              "      <td>8948</td>\n",
              "    </tr>\n",
              "    <tr>\n",
              "      <th>3</th>\n",
              "      <td>1</td>\n",
              "      <td>38878</td>\n",
              "    </tr>\n",
              "    <tr>\n",
              "      <th>4</th>\n",
              "      <td>2</td>\n",
              "      <td>16133</td>\n",
              "    </tr>\n",
              "  </tbody>\n",
              "</table>\n",
              "</div>"
            ],
            "text/plain": [
              "   label  imageID\n",
              "0      2    31806\n",
              "1      6    35802\n",
              "2      4     8948\n",
              "3      1    38878\n",
              "4      2    16133"
            ]
          },
          "metadata": {
            "tags": []
          },
          "execution_count": 118
        }
      ]
    },
    {
      "cell_type": "code",
      "metadata": {
        "colab": {
          "base_uri": "https://localhost:8080/",
          "height": 536
        },
        "id": "7epnGze2mcI2",
        "outputId": "3340330d-0b0c-451c-f134-0a84b7f0b815"
      },
      "source": [
        "re_testX = pd.DataFrame(testX).add_prefix('pixel_') # re-engineer x values\r\n",
        "re_testX = (re_testX * 255).astype(np.uint8)\r\n",
        "guess_plotter = pd.concat([testguess, re_testX], axis = 1)\r\n",
        "guess_plotter.shape #(575, 786)\r\n",
        "fig, ax = plt.subplots(3, 3, figsize = (9,9)) # lets make a figure\r\n",
        "for i in range(1, 10): # 9 pieces - matplotlib wants #1-9, not 0-8\r\n",
        "  ax = plt.subplot(3, 3, i) # set subplot\r\n",
        "  pick = guess_plotter.sample(1, random_state = i *9) # pick a row\r\n",
        "  label = int(pick['label']) # label = for our row\r\n",
        "  img = pick.drop(['label', 'imageID'], axis = 1) # pixel values\r\n",
        "  img = np.array(img) #convert pixels to array\r\n",
        "  img = np.reshape(img, (28,28)) # reshape ot 28x28\r\n",
        "  plt.imshow(img, cmap='gray_r') # show image - invert so pen is black\r\n",
        "  ax.set_title(f'is: ?, pred: {label}') # title is label and guess\r\n",
        "  plt.axis('off')"
      ],
      "execution_count": null,
      "outputs": [
        {
          "output_type": "display_data",
          "data": {
            "image/png": "[encoded data removed]",
            "text/plain": [
              "<Figure size 648x648 with 9 Axes>"
            ]
          },
          "metadata": {
            "tags": [],
            "needs_background": "light"
          }
        }
      ]
    },
    {
      "cell_type": "markdown",
      "metadata": {
        "id": "KbXbACo1m1zP"
      },
      "source": [
        "Looks pretty good to me (except for bottom right...)"
      ]
    }
  ]
}