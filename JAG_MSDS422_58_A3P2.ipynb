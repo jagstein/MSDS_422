{
  "nbformat": 4,
  "nbformat_minor": 0,
  "metadata": {
    "colab": {
      "name": "JAG_MSDS422_58_A3P2.ipynb",
      "provenance": [],
      "collapsed_sections": []
    },
    "kernelspec": {
      "name": "python3",
      "display_name": "Python 3"
    },
    "accelerator": "GPU"
  },
  "cells": [
    {
      "cell_type": "markdown",
      "metadata": {
        "id": "BUcvW4HCkvdG"
      },
      "source": [
        "#Part 2 - Snowing Cats and Dogs\r\n",
        "We'll use convolutional neural networks to predict whether a picture is of a cat or a dog. We'll begin with some imports"
      ]
    },
    {
      "cell_type": "code",
      "metadata": {
        "id": "D7mK4GOxto7O"
      },
      "source": [
        "import numpy as np\r\n",
        "import pandas as pd\r\n",
        "import os\r\n",
        "import glob\r\n",
        "from numpy import asarray, save, load\r\n",
        "from tensorflow.keras.preprocessing.image import load_img, img_to_array\r\n",
        "from matplotlib.pyplot import imshow\r\n",
        "from PIL import Image\r\n",
        "import matplotlib.pyplot as plt\r\n",
        "from shutil import copy, move\r\n",
        "from sklearn.model_selection import train_test_split"
      ],
      "execution_count": 1,
      "outputs": []
    },
    {
      "cell_type": "markdown",
      "metadata": {
        "id": "Ekh9rZXela3e"
      },
      "source": [
        "The images are all in 1 folder. We need to make a train/validation split. I've decided to use directory based typing, so we need 1 directory each for training / validation and 1 subdirectory each for cat vs. dog"
      ]
    },
    {
      "cell_type": "code",
      "metadata": {
        "id": "H7ptGLt7tyju"
      },
      "source": [
        "# files loaded to colab\r\n",
        "train_dir = '/content/drive/MyDrive/MSDS_422/assignment-3-part-2-training-images/'\r\n",
        "test_dir = '/content/drive/MyDrive/MSDS_422/assignment-3-part-2-test-images/'\r\n",
        "# files redistributed to train/val cat/dog based on split and image name\r\n",
        "target_dir = '/content/drive/MyDrive/MSDS_422/A3P2/'"
      ],
      "execution_count": 2,
      "outputs": []
    },
    {
      "cell_type": "code",
      "metadata": {
        "id": "AoacCYMOwGmc"
      },
      "source": [
        "tv_img = os.listdir(train_dir) # list files\r\n",
        "imgT, imgV = train_test_split(tv_img, test_size = 0.2, random_state = 21) #split\r\n",
        "\r\n",
        "for dir in ['train', 'train/cat', 'train/dog', \r\n",
        "            'valid', 'valid/cat', 'valid/dog']: # make directories\r\n",
        "  try: \r\n",
        "    os.mkdir(os.path.join(target_dir, dir)) \r\n",
        "  except FileExistsError: \r\n",
        "    pass\r\n",
        "\r\n",
        "# we'll use directory-based class calling\r\n",
        "for file_name in imgT:\r\n",
        "  if file_name[-4:] == '.jpg': # if image\r\n",
        "    animal = file_name[0:3] # use animal to target\r\n",
        "    copy(os.path.join(train_dir, file_name), #move image\r\n",
        "          os.path.join(target_dir, 'train', animal, file_name)) \r\n",
        "\r\n",
        "for file_name in imgV: # copy the validation images\r\n",
        "  if file_name[-4:] == '.jpg':\r\n",
        "    animal = file_name[0:3] # use animal to target\r\n",
        "    copy(os.path.join(train_dir, file_name), \r\n",
        "          os.path.join(target_dir, 'valid', animal, file_name)) "
      ],
      "execution_count": null,
      "outputs": []
    },
    {
      "cell_type": "code",
      "metadata": {
        "colab": {
          "base_uri": "https://localhost:8080/"
        },
        "id": "cO58Fcmbx61h",
        "outputId": "a132ed3d-8559-4fed-d7e3-b1fe83236e29"
      },
      "source": [
        "len(os.listdir(os.path.join(target_dir, 'valid', 'cat'))) # 510\r\n",
        "len(os.listdir(os.path.join(target_dir, 'train', 'cat'))) # 2000 - ok\r\n",
        "\r\n",
        "\r\n"
      ],
      "execution_count": 4,
      "outputs": [
        {
          "output_type": "execute_result",
          "data": {
            "text/plain": [
              "2000"
            ]
          },
          "metadata": {
            "tags": []
          },
          "execution_count": 4
        }
      ]
    },
    {
      "cell_type": "code",
      "metadata": {
        "id": "jipZJV-9AYPL",
        "colab": {
          "base_uri": "https://localhost:8080/"
        },
        "outputId": "f6e105df-ea10-43dd-9794-eba89032f635"
      },
      "source": [
        "from tensorflow.keras.preprocessing.image import ImageDataGenerator\r\n",
        "\r\n",
        "# generators\r\n",
        "train_gen = ImageDataGenerator(rescale=1./255) # convert to float32 0-1\r\n",
        "val_gen = ImageDataGenerator(rescale=1./255)\r\n",
        "\r\n",
        "train_generator = train_gen.flow_from_directory(\r\n",
        "    os.path.join(target_dir, 'train'),\r\n",
        "    target_size=(200,200), # images are 200x200, if not will get rescaled\r\n",
        "    batch_size=32,\r\n",
        "    class_mode='binary' # cat vs. dog\r\n",
        "    )\r\n",
        "\r\n",
        "validate_generator = val_gen.flow_from_directory(\r\n",
        "    os.path.join(target_dir, 'valid'),\r\n",
        "    target_size=(200,200),\r\n",
        "    batch_size=32,\r\n",
        "    class_mode='binary'\r\n",
        "    )"
      ],
      "execution_count": 5,
      "outputs": [
        {
          "output_type": "stream",
          "text": [
            "Found 4007 images belonging to 2 classes.\n",
            "Found 1003 images belonging to 2 classes.\n"
          ],
          "name": "stdout"
        }
      ]
    },
    {
      "cell_type": "markdown",
      "metadata": {
        "id": "AjB__OlXCv-a"
      },
      "source": [
        "# model set up\r\n",
        "we'll set up a convoltional neural network to classify cats vs. dogs. I've played with this to build a model that is good, not great."
      ]
    },
    {
      "cell_type": "code",
      "metadata": {
        "id": "tgCfjPOwCx2S",
        "colab": {
          "base_uri": "https://localhost:8080/"
        },
        "outputId": "5514da5b-09c5-40ed-e60e-bf7016b0b5d5"
      },
      "source": [
        "\r\n",
        "import tensorflow as tf\r\n",
        "from tensorflow.keras import layers\r\n",
        "from tensorflow.keras import models\r\n",
        "from tensorflow.keras import optimizers\r\n",
        "from tensorflow.keras import mixed_precision # some 16 + some 32 = faster\r\n",
        "mixed_precision.set_global_policy('mixed_float16') \r\n",
        "  #https://www.tensorflow.org/guide/mixed_precision\r\n",
        "\r\n",
        "\r\n",
        "# not so simple CNN:\r\n",
        "# 6 convolutional layers with pooling between. 1st layer has a fairly large \r\n",
        "# kernel of 7 x 7, with conventional increasing numbers of filters\r\n",
        "# this is flattened and then goes to fully connected layers\r\n",
        "model=models.Sequential([\r\n",
        "    layers.Input(shape = (200,200,3)),\r\n",
        "    layers.Conv2D(32, (7,7), activation = 'relu'),\r\n",
        "    layers.Conv2D(32, (3,3), activation = 'relu'),\r\n",
        "    layers.MaxPooling2D(pool_size=(3,3),strides=(3,3)),\r\n",
        "    layers.Conv2D(64, (3,3), activation = 'relu'),\r\n",
        "    layers.Conv2D(64, (3,3), activation = 'relu'),\r\n",
        "    layers.MaxPooling2D(pool_size=(3,3),strides=(3,3)),\r\n",
        "    layers.Conv2D(128, (3,3), activation = 'relu'),\r\n",
        "    layers.Conv2D(128, (3,3), activation = 'relu'),\r\n",
        "    layers.MaxPooling2D(pool_size=(3,3),strides=(3,3)),\r\n",
        "    layers.Flatten(),\r\n",
        "    layers.Dense(256,activation='relu'),\r\n",
        "    layers.Dense(64, activation = 'relu'),\r\n",
        "    layers.Dense(1,activation='sigmoid') # 1 neuron - binary\r\n",
        "    ])\r\n",
        "model.summary()"
      ],
      "execution_count": 6,
      "outputs": [
        {
          "output_type": "stream",
          "text": [
            "INFO:tensorflow:Mixed precision compatibility check (mixed_float16): OK\n",
            "Your GPU will likely run quickly with dtype policy mixed_float16 as it has compute capability of at least 7.0. Your GPU: Tesla T4, compute capability 7.5\n",
            "Model: \"sequential\"\n",
            "_________________________________________________________________\n",
            "Layer (type)                 Output Shape              Param #   \n",
            "=================================================================\n",
            "conv2d (Conv2D)              (None, 194, 194, 32)      4736      \n",
            "_________________________________________________________________\n",
            "conv2d_1 (Conv2D)            (None, 192, 192, 32)      9248      \n",
            "_________________________________________________________________\n",
            "max_pooling2d (MaxPooling2D) (None, 64, 64, 32)        0         \n",
            "_________________________________________________________________\n",
            "conv2d_2 (Conv2D)            (None, 62, 62, 64)        18496     \n",
            "_________________________________________________________________\n",
            "conv2d_3 (Conv2D)            (None, 60, 60, 64)        36928     \n",
            "_________________________________________________________________\n",
            "max_pooling2d_1 (MaxPooling2 (None, 20, 20, 64)        0         \n",
            "_________________________________________________________________\n",
            "conv2d_4 (Conv2D)            (None, 18, 18, 128)       73856     \n",
            "_________________________________________________________________\n",
            "conv2d_5 (Conv2D)            (None, 16, 16, 128)       147584    \n",
            "_________________________________________________________________\n",
            "max_pooling2d_2 (MaxPooling2 (None, 5, 5, 128)         0         \n",
            "_________________________________________________________________\n",
            "flatten (Flatten)            (None, 3200)              0         \n",
            "_________________________________________________________________\n",
            "dense (Dense)                (None, 256)               819456    \n",
            "_________________________________________________________________\n",
            "dense_1 (Dense)              (None, 64)                16448     \n",
            "_________________________________________________________________\n",
            "dense_2 (Dense)              (None, 1)                 65        \n",
            "=================================================================\n",
            "Total params: 1,126,817\n",
            "Trainable params: 1,126,817\n",
            "Non-trainable params: 0\n",
            "_________________________________________________________________\n"
          ],
          "name": "stdout"
        }
      ]
    },
    {
      "cell_type": "code",
      "metadata": {
        "id": "z1HFhbfjC5Ea"
      },
      "source": [
        "model.compile(loss='binary_crossentropy', # as this is binary\r\n",
        "             optimizer=optimizers.RMSprop(lr=1e-4), # reasonable\r\n",
        "             metrics=['acc']) # also reasonable"
      ],
      "execution_count": 7,
      "outputs": []
    },
    {
      "cell_type": "code",
      "metadata": {
        "id": "F21csTzQC74B",
        "colab": {
          "base_uri": "https://localhost:8080/"
        },
        "outputId": "e74b8d12-d46c-4ff6-b835-212dfaee2c8a"
      },
      "source": [
        "history = model.fit(\r\n",
        "    train_generator,\r\n",
        "    epochs=10,\r\n",
        "    validation_data = validate_generator\r\n",
        "    )"
      ],
      "execution_count": 8,
      "outputs": [
        {
          "output_type": "stream",
          "text": [
            "Epoch 1/10\n",
            "126/126 [==============================] - 1941s 15s/step - loss: 0.6904 - acc: 0.5134 - val_loss: 0.6806 - val_acc: 0.5713\n",
            "Epoch 2/10\n",
            "126/126 [==============================] - 21s 165ms/step - loss: 0.6675 - acc: 0.5891 - val_loss: 0.6400 - val_acc: 0.6301\n",
            "Epoch 3/10\n",
            "126/126 [==============================] - 21s 163ms/step - loss: 0.6363 - acc: 0.6363 - val_loss: 0.6299 - val_acc: 0.6431\n",
            "Epoch 4/10\n",
            "126/126 [==============================] - 21s 166ms/step - loss: 0.5966 - acc: 0.6868 - val_loss: 0.6168 - val_acc: 0.6600\n",
            "Epoch 5/10\n",
            "126/126 [==============================] - 21s 165ms/step - loss: 0.5953 - acc: 0.6643 - val_loss: 0.5974 - val_acc: 0.6800\n",
            "Epoch 6/10\n",
            "126/126 [==============================] - 21s 168ms/step - loss: 0.5481 - acc: 0.7191 - val_loss: 0.5699 - val_acc: 0.7009\n",
            "Epoch 7/10\n",
            "126/126 [==============================] - 21s 169ms/step - loss: 0.5275 - acc: 0.7562 - val_loss: 0.5644 - val_acc: 0.7238\n",
            "Epoch 8/10\n",
            "126/126 [==============================] - 21s 165ms/step - loss: 0.5067 - acc: 0.7536 - val_loss: 0.5234 - val_acc: 0.7358\n",
            "Epoch 9/10\n",
            "126/126 [==============================] - 21s 165ms/step - loss: 0.4847 - acc: 0.7673 - val_loss: 0.5430 - val_acc: 0.7258\n",
            "Epoch 10/10\n",
            "126/126 [==============================] - 21s 167ms/step - loss: 0.4557 - acc: 0.7922 - val_loss: 0.5287 - val_acc: 0.7388\n"
          ],
          "name": "stdout"
        }
      ]
    },
    {
      "cell_type": "code",
      "metadata": {
        "id": "eK_-EClUDrgR",
        "colab": {
          "base_uri": "https://localhost:8080/"
        },
        "outputId": "6909300c-59d0-41a1-e6a8-191583ae8ba0"
      },
      "source": [
        "print(history.history['acc']) # 0.893\r\n",
        "print(history.history['val_acc']) # 0.816 - overfitting somewhat - good\r\n",
        "model.save('/content/dog_cat_model_1.h5')"
      ],
      "execution_count": 9,
      "outputs": [
        {
          "output_type": "stream",
          "text": [
            "[0.5393062233924866, 0.5999500751495361, 0.6496132016181946, 0.6835537552833557, 0.686798095703125, 0.7152482867240906, 0.7481906414031982, 0.7506862878799438, 0.7699026465415955, 0.7881208062171936]\n",
            "[0.571286141872406, 0.6301096677780151, 0.6430708169937134, 0.6600199341773987, 0.6799601316452026, 0.7008973360061646, 0.7238284945487976, 0.7357926368713379, 0.7258225083351135, 0.7387836575508118]\n"
          ],
          "name": "stdout"
        }
      ]
    },
    {
      "cell_type": "markdown",
      "metadata": {
        "id": "RQHi4_t7Nt0d"
      },
      "source": [
        "Well, that was OK. Next we'll try varying the architecture to make a better network. I tried [keras-tuner](https://keras-team.github.io/keras-tuner/), but there's not a good way to time it. Also, it still ended up looking quite ugly because of the need to add multiple batchNorm or dropout layers, so I just did it as a function."
      ]
    },
    {
      "cell_type": "code",
      "metadata": {
        "id": "jtofjk9hOTtT"
      },
      "source": [
        "from tensorflow.keras.constraints import max_norm\r\n",
        "# max_norm implements max_norm weight based regularization\r\n",
        "# caps the sum of weights for each layer and redistributes\r\n",
        "\r\n",
        "def build_model(bn=False, dropout=False, use_max_norm=False):\r\n",
        "    if use_max_norm: kernal_constraint = max_norm(2.)\r\n",
        "    else: kernal_constraint = None\r\n",
        "\r\n",
        "    model = models.Sequential()\r\n",
        "    model.add(layers.Input(shape = (200,200,3))) # input\r\n",
        "    if bn: model.add(layers.BatchNormalization())\r\n",
        "    model.add(layers.Conv2D(32, (7,7), activation = 'relu'))\r\n",
        "    if bn: model.add(layers.BatchNormalization())\r\n",
        "    model.add(layers.Conv2D(32, (3,3), activation = 'relu'))\r\n",
        "    if bn: model.add(layers.BatchNormalization())\r\n",
        "    model.add(layers.MaxPooling2D(pool_size=(3,3),strides=(3,3)))\r\n",
        "    model.add(layers.Conv2D(64, (3,3), activation = 'relu'))\r\n",
        "    if bn: model.add(layers.BatchNormalization())\r\n",
        "    model.add(layers.Conv2D(64, (3,3), activation = 'relu'))\r\n",
        "    if bn: model.add(layers.BatchNormalization())\r\n",
        "    model.add(layers.MaxPooling2D(pool_size=(3,3),strides=(3,3)))\r\n",
        "    if bn: model.add(layers.BatchNormalization())\r\n",
        "    model.add(layers.Conv2D(128, (3,3), activation = 'relu'))\r\n",
        "    if bn: model.add(layers.BatchNormalization())\r\n",
        "    model.add(layers.Conv2D(128, (3,3), activation = 'relu'))\r\n",
        "    if bn: model.add(layers.BatchNormalization())\r\n",
        "    model.add(layers.MaxPooling2D(pool_size=(3,3),strides=(3,3)))\r\n",
        "    model.add(layers.Flatten())\r\n",
        "    model.add(layers.Dense(256,activation='relu', \r\n",
        "                           kernel_constraint=kernal_constraint))\r\n",
        "    if bn: model.add(layers.BatchNormalization())\r\n",
        "    if dropout: model.add(layers.Dropout(0.5))\r\n",
        "    model.add(layers.Dense(64, activation = 'relu',\r\n",
        "                           kernel_constraint=kernal_constraint))\r\n",
        "    if bn: model.add(layers.BatchNormalization())\r\n",
        "    if dropout: model.add(layers.Dropout(0.5))\r\n",
        "    model.add(layers.Dense(1,activation='sigmoid'))\r\n",
        "    \r\n",
        "    \r\n",
        "    model.compile(loss='binary_crossentropy',\r\n",
        "             optimizer=optimizers.RMSprop(lr=1e-4),\r\n",
        "             metrics=['accuracy'])\r\n",
        "    return model"
      ],
      "execution_count": 10,
      "outputs": []
    },
    {
      "cell_type": "code",
      "metadata": {
        "colab": {
          "base_uri": "https://localhost:8080/",
          "height": 249
        },
        "id": "D57IC3FPPKLM",
        "outputId": "a4c862e3-74a5-4500-fd13-72ba7efabc89"
      },
      "source": [
        "# setup - typically keras shuffles data (randomly) and layers are randomly\r\n",
        "# initialized. Here is some code to fix that. \r\n",
        "# Source: https://keras.io/getting_started/faq/\r\n",
        "import random as python_random\r\n",
        "\r\n",
        "!PYTHONHASHSEED=0\r\n",
        "np.random.seed(21)\r\n",
        "python_random.seed(21)\r\n",
        "tf.random.set_seed(21)\r\n",
        "\r\n",
        "from timeit import default_timer as timer # timing program\r\n",
        "                        #batch_norm, dropout, use_max_norm\r\n",
        "variants = {'baseline':[  False,     False,    False],\r\n",
        "            'batch_norm':[True,      False,    False],\r\n",
        "            'dropout':   [False,     True,     False],\r\n",
        "            'max_norm':  [False,     False,    True]}\r\n",
        "            \r\n",
        "resList=[] # for storing our results\r\n",
        "resToPlot = [] # for making a graph\r\n",
        "for variant in variants.keys():\r\n",
        "  print()\r\n",
        "\r\n",
        "  start = timer()\r\n",
        "  var_model = build_model(variants[variant]) #including build time\r\n",
        "  history = var_model.fit(\r\n",
        "      train_generator,\r\n",
        "      epochs=20, # better look at overfitting if it's happening\r\n",
        "      verbose = 0, # printing raises fitting time non-uniformly\r\n",
        "      validation_data = validate_generator\r\n",
        "      )\r\n",
        "  end = timer()\r\n",
        "  elapsed = end - start\r\n",
        "  resList.append({'model': variant,\r\n",
        "    'val_accuracy':history.history['val_accuracy'][-1],\r\n",
        "    'train_accuracy':history.history['accuracy'][-1],\r\n",
        "    'train_val_time':elapsed})\r\n",
        "  resToPlot.append({'model':variant, \r\n",
        "          'val_accs':history.history['val_accuracy'],\r\n",
        "          'train_accs': history.history['accuracy']})\r\n",
        "\r\n",
        "result = pd.DataFrame(resList)\r\n",
        "result"
      ],
      "execution_count": 11,
      "outputs": [
        {
          "output_type": "stream",
          "text": [
            "\n",
            "\n",
            "\n",
            "\n"
          ],
          "name": "stdout"
        },
        {
          "output_type": "execute_result",
          "data": {
            "text/html": [
              "<div>\n",
              "<style scoped>\n",
              "    .dataframe tbody tr th:only-of-type {\n",
              "        vertical-align: middle;\n",
              "    }\n",
              "\n",
              "    .dataframe tbody tr th {\n",
              "        vertical-align: top;\n",
              "    }\n",
              "\n",
              "    .dataframe thead th {\n",
              "        text-align: right;\n",
              "    }\n",
              "</style>\n",
              "<table border=\"1\" class=\"dataframe\">\n",
              "  <thead>\n",
              "    <tr style=\"text-align: right;\">\n",
              "      <th></th>\n",
              "      <th>model</th>\n",
              "      <th>val_accuracy</th>\n",
              "      <th>train_accuracy</th>\n",
              "      <th>train_val_time</th>\n",
              "    </tr>\n",
              "  </thead>\n",
              "  <tbody>\n",
              "    <tr>\n",
              "      <th>0</th>\n",
              "      <td>baseline</td>\n",
              "      <td>0.748754</td>\n",
              "      <td>0.992264</td>\n",
              "      <td>481.921144</td>\n",
              "    </tr>\n",
              "    <tr>\n",
              "      <th>1</th>\n",
              "      <td>batch_norm</td>\n",
              "      <td>0.763709</td>\n",
              "      <td>0.993012</td>\n",
              "      <td>480.554623</td>\n",
              "    </tr>\n",
              "    <tr>\n",
              "      <th>2</th>\n",
              "      <td>dropout</td>\n",
              "      <td>0.740778</td>\n",
              "      <td>0.991515</td>\n",
              "      <td>480.699108</td>\n",
              "    </tr>\n",
              "    <tr>\n",
              "      <th>3</th>\n",
              "      <td>max_norm</td>\n",
              "      <td>0.736790</td>\n",
              "      <td>0.993012</td>\n",
              "      <td>483.295973</td>\n",
              "    </tr>\n",
              "  </tbody>\n",
              "</table>\n",
              "</div>"
            ],
            "text/plain": [
              "        model  val_accuracy  train_accuracy  train_val_time\n",
              "0    baseline      0.748754        0.992264      481.921144\n",
              "1  batch_norm      0.763709        0.993012      480.554623\n",
              "2     dropout      0.740778        0.991515      480.699108\n",
              "3    max_norm      0.736790        0.993012      483.295973"
            ]
          },
          "metadata": {
            "tags": []
          },
          "execution_count": 11
        }
      ]
    },
    {
      "cell_type": "markdown",
      "metadata": {
        "id": "7OYCEM5SYHQ4"
      },
      "source": [
        "These variations seem to have minimal impact on validation or training accuracy. That is, these regularizers are not doing much regularization"
      ]
    },
    {
      "cell_type": "code",
      "metadata": {
        "colab": {
          "base_uri": "https://localhost:8080/",
          "height": 302
        },
        "id": "KVw2RxaYYGwf",
        "outputId": "4771525e-45df-4cde-8c4a-51143c1919b4"
      },
      "source": [
        "labels = []\r\n",
        "fig, ax = plt.subplots()\r\n",
        "for result in resToPlot:\r\n",
        "  plt.scatter(range(1,21), result['val_accs'])\r\n",
        "  labels.append(result['model'])\r\n",
        "plt.xlabel('Epochs')\r\n",
        "plt.ylabel('Validation accuracy')\r\n",
        "ax.set_ylim(0.30, 1)\r\n",
        "plt.legend(labels=labels)"
      ],
      "execution_count": 13,
      "outputs": [
        {
          "output_type": "execute_result",
          "data": {
            "text/plain": [
              "<matplotlib.legend.Legend at 0x7f81d84dc668>"
            ]
          },
          "metadata": {
            "tags": []
          },
          "execution_count": 13
        },
        {
          "output_type": "display_data",
          "data": {
            "image/png": "[encoded data removed]",
            "text/plain": [
              "<Figure size 432x288 with 1 Axes>"
            ]
          },
          "metadata": {
            "tags": [],
            "needs_background": "light"
          }
        }
      ]
    },
    {
      "cell_type": "markdown",
      "metadata": {
        "id": "MssO3T9eYfxg"
      },
      "source": [
        "We quickly get a boost in validation accuracy, but then plateau. There's mild evidence of overfitting at 20 epochs. An early stopping strategy would also be some good regularizing."
      ]
    }
  ]
}