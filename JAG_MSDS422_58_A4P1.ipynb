{
 "cells": [
  {
   "cell_type": "markdown",
   "metadata": {},
   "source": [
    "##Roger Ebert -> RoBert\n",
    "\n",
    "a.k.a. Your Model Sucks\n",
    "\n",
    "We'll start with the tokenized, padded data from part 0"
   ]
  },
  {
   "cell_type": "code",
   "execution_count": 14,
   "metadata": {},
   "outputs": [],
   "source": [
    "from pickleshare import PickleShareDB\n",
    "import os\n",
    "import gc\n",
    "import numpy as np\n",
    "from tensorflow.keras.backend import clear_session\n",
    "from tensorflow.keras import layers \n",
    "from tensorflow.keras import Input, Model\n",
    "from tensorflow.keras.optimizers import Nadam\n",
    "import matplotlib.pyplot as plt"
   ]
  },
  {
   "cell_type": "code",
   "execution_count": 15,
   "metadata": {},
   "outputs": [
    {
     "name": "stdout",
     "output_type": "stream",
     "text": [
      "['XTestEm', 'emMat10000X100', 'XValEm', 'yVal', 'wordIndx', 'XVal', 'yTest', 'XTrain', 'XTrainEm', 'yTrain', 'XTest']\n",
      "(2000, 80)\n",
      "(6000, 80)\n",
      "(6000, 80)\n",
      "[1211   17    2   12    9   13   90    8 2317    7    7  551    1 3172\n",
      "    6 1015  592    7    7   91    3  592   17    2    1  428    2 6580\n",
      "  486    6   52 1917    7    7  589   89  435  332   55 2644    2  146\n",
      "   11   17   91  481  592    7    7   10 2794  248    4    1  252   79\n",
      "  570   14   10 6303   20  126 2625   91   28    4    1  115 1211   99\n",
      "  123  806   43   11 4303 5772 5574  895 2359  422]\n",
      "cult movie and that it was made in germany. anyway the nose is fairly crap. its a crap movie and the picture and volume quality is very rubbish. please don't waste you're time buying and watching this movie its totally crap. i prefer day of the woman also known as i spit on your grave its one of the best cult movies ever check out this link http www imdb com title\n"
     ]
    }
   ],
   "source": [
    "# start by unpickling and looking at data\n",
    "db=PickleShareDB(os.path.join(os.getcwd(), 'assign4.pshare'))\n",
    "print(db.keys())\n",
    "\n",
    "XTrain=db['XTrain']\n",
    "XVal=db['XVal']\n",
    "XTest=db['XTest']\n",
    "wordIndx = db['wordIndx'] # word -> number\n",
    "inv_Indx = {number: word for word, number in wordIndx.items()} # flip the script: number <- word\n",
    "print(XTrain.shape) # make sure they're all there\n",
    "print(XVal.shape)\n",
    "print(XTest.shape)\n",
    "\n",
    "# look at an example review\n",
    "review = XTrain[0]\n",
    "print(XTrain[0]) # numbers\n",
    "print(' '.join([inv_Indx[wordCode] for wordCode in XTrain[0]]).replace(' br br ', '. ')) # comprehension"
   ]
  },
  {
   "cell_type": "markdown",
   "metadata": {},
   "source": [
    "Looks like the data are all there. The first review doesn't look very promising."
   ]
  },
  {
   "cell_type": "code",
   "execution_count": 16,
   "metadata": {},
   "outputs": [],
   "source": [
    "# hyperparameters - max len and maxwords are fixed from part 0\n",
    "maxLen=80\n",
    "maxWords=10000\n",
    "batch_size=32\n",
    "emDim=64"
   ]
  },
  {
   "cell_type": "code",
   "execution_count": 17,
   "metadata": {},
   "outputs": [
    {
     "data": {
      "text/plain": [
       "4340"
      ]
     },
     "execution_count": 17,
     "metadata": {},
     "output_type": "execute_result"
    }
   ],
   "source": [
    "# take out the garbage\n",
    "clear_session()\n",
    "gc.collect()"
   ]
  },
  {
   "cell_type": "markdown",
   "metadata": {},
   "source": [
    "Now we'll define an autoencoder - an encoder and decoder. The goal is to produce an accurate representation of the review. The first step is embedding the words. This converts the numbers, which link back to words via the index, into feature-space. This feel kind of like the filters in CNN rating each little patch on how similar it is to a vertical line, small circle, etc. Here, I suppose the embedder is rating each word on it's 'verb-ness' or 'past-tenseness'"
   ]
  },
  {
   "cell_type": "code",
   "execution_count": 18,
   "metadata": {},
   "outputs": [],
   "source": [
    "inputPadded=layers.Input(shape=(maxLen,)) # input layer, 80 words\n",
    "# embedding layer -> puts words into feature-space\n",
    "embedLayer=layers.Embedding( \n",
    "    maxWords, # number of possible words -> We'll train an embedding for each\n",
    "    output_dim=emDim, # categories to embed into\n",
    "    input_length=maxLen) # size of review put in\n",
    "\n",
    "# bulding the encoder using the API. Allows us to stack 2 models\n",
    "x = embedLayer(inputPadded)\n",
    "# LSTM layers - looks at each word and uses it's memory of the overall encoding\n",
    "# bidirectional means it can see words before and after the word in question\n",
    "# unidirectional or causal would be for time series etc.\n",
    "state_hidden=layers.Bidirectional(layers.LSTM(64,activation='selu'))(x)\n",
    "\n",
    "encodeM=Model(inputs=inputPadded,outputs=state_hidden, name = 'encoder') # declare a model\n",
    "\n",
    "encoderOut=encodeM(inputPadded) # this hidden output is the product of the model"
   ]
  },
  {
   "cell_type": "markdown",
   "metadata": {},
   "source": [
    "Now we'll design the decoder. This will take the hidden output from the LSTM layer and convert it back into words.\n",
    "The RepeatVector layer helps us deal with the problem that we put a sequence of 80 words in, converted to an embeded meaning, and then we want to get a sequence of words out."
   ]
  },
  {
   "cell_type": "code",
   "execution_count": 19,
   "metadata": {},
   "outputs": [
    {
     "name": "stdout",
     "output_type": "stream",
     "text": [
      "Model: \"AutoEncoder\"\n",
      "_________________________________________________________________\n",
      "Layer (type)                 Output Shape              Param #   \n",
      "=================================================================\n",
      "input_1 (InputLayer)         [(None, 80)]              0         \n",
      "_________________________________________________________________\n",
      "encoder (Model)              (None, 128)               706048    \n",
      "_________________________________________________________________\n",
      "repeat_vector (RepeatVector) (None, 80, 128)           0         \n",
      "_________________________________________________________________\n",
      "bidirectional_1 (Bidirection (None, 80, 128)           98816     \n",
      "_________________________________________________________________\n",
      "dense (Dense)                (None, 80, 10000)         1290000   \n",
      "=================================================================\n",
      "Total params: 2,094,864\n",
      "Trainable params: 2,094,864\n",
      "Non-trainable params: 0\n",
      "_________________________________________________________________\n"
     ]
    }
   ],
   "source": [
    "decoded=layers.RepeatVector(maxLen)(encoderOut) # spawns 1 copy of the encoding per word\n",
    "dec_lstm=layers.Bidirectional(layers.LSTM(64, # another LSTM with bidirectional inputs\n",
    "        return_sequences=True)) # return sequences means it will give 1 word output for each copy of the encoding\n",
    "decoded_lstm_output=dec_lstm(decoded) # lstm works on repeated code\n",
    "dec_dense=layers.Dense(maxWords,activation='softmax') # dense output layer, gives probabilites of each word\n",
    "decoder_outputs=dec_dense(decoded_lstm_output)\n",
    "\n",
    "autoEnc_Model=Model(inputPadded,decoder_outputs, name='AutoEncoder') # put the 2 halves of the model together\n",
    "autoEnc_Model.summary()"
   ]
  },
  {
   "cell_type": "code",
   "execution_count": 20,
   "metadata": {},
   "outputs": [],
   "source": [
    "autoEnc_Model.compile(optimizer=Nadam(lr=1e-3), # compile model, Nesterov mod of adam optimizer\n",
    "                      loss='sparse_categorical_crossentropy' # because our data is 2,3 not [[0,1,0],[0,0,1]\n",
    "                     )"
   ]
  },
  {
   "cell_type": "code",
   "execution_count": 21,
   "metadata": {},
   "outputs": [],
   "source": [
    "# early stopping is are regularization technique to stop training when the \n",
    "# validation accuracy stops changing. This stops the model before it overfits (regularization)\n",
    "# it also makes training faster. Another option would be to change the error rate\n",
    "# note this is a version of 'peeking' at the validation data, hence why we need a test set\n",
    "from tensorflow.keras.callbacks import EarlyStopping\n",
    "callback=EarlyStopping(monitor='val_loss',patience=3)"
   ]
  },
  {
   "cell_type": "code",
   "execution_count": 22,
   "metadata": {},
   "outputs": [
    {
     "name": "stdout",
     "output_type": "stream",
     "text": [
      "Epoch 1/30\n",
      "63/63 [==============================] - 29s 454ms/step - loss: 7.1513 - val_loss: 6.5242\n",
      "Epoch 2/30\n",
      "63/63 [==============================] - 28s 437ms/step - loss: 6.5305 - val_loss: 6.5339\n",
      "Epoch 3/30\n",
      "63/63 [==============================] - 28s 439ms/step - loss: 6.5257 - val_loss: 6.5378\n",
      "Epoch 4/30\n",
      "63/63 [==============================] - 28s 439ms/step - loss: 6.5192 - val_loss: 6.5316\n"
     ]
    }
   ],
   "source": [
    "# train the model\n",
    "history=autoEnc_Model.fit(XTrain,\n",
    "                          np.expand_dims(XTrain,-1), #target is self, reshaped for cross entropy\n",
    "                         batch_size=batch_size,\n",
    "                         epochs=30,\n",
    "                         validation_data=(XVal,XVal), # validation target is self\n",
    "                         verbose=1, # I don't want to watch the bars go by\n",
    "                         callbacks=[callback])"
   ]
  },
  {
   "cell_type": "code",
   "execution_count": 23,
   "metadata": {},
   "outputs": [],
   "source": [
    "# we'll save the encoder weights to use in part 2\n",
    "encodeM.save_weights('assign-4-encoder.h5')"
   ]
  },
  {
   "cell_type": "code",
   "execution_count": 24,
   "metadata": {},
   "outputs": [
    {
     "data": {
      "text/plain": [
       "<matplotlib.legend.Legend at 0x2b6a70476e20>"
      ]
     },
     "execution_count": 24,
     "metadata": {},
     "output_type": "execute_result"
    },
    {
     "data": {
      "image/png": "[encoded data removed]",
      "text/plain": [
       "<Figure size 432x288 with 1 Axes>"
      ]
     },
     "metadata": {
      "needs_background": "light"
     },
     "output_type": "display_data"
    }
   ],
   "source": [
    "# plot loss over time\n",
    "val_loss = history.history['val_loss']\n",
    "loss = history.history['loss']\n",
    "epochs = range(1, len(loss) + 1)\n",
    "labels = []\n",
    "fig, ax = plt.subplots()\n",
    "ax.scatter(epochs, loss)\n",
    "labels.append('training_loss')\n",
    "ax.scatter(epochs, val_loss)\n",
    "labels.append('validation_loss')\n",
    "plt.xlabel('Epochs')\n",
    "plt.ylabel('Loss')\n",
    "ax.set_ylim(5, 10)\n",
    "plt.legend(labels=labels)"
   ]
  },
  {
   "cell_type": "code",
   "execution_count": 25,
   "metadata": {},
   "outputs": [],
   "source": [
    "plt.close()"
   ]
  },
  {
   "cell_type": "markdown",
   "metadata": {},
   "source": [
    "Is that a good loss? No idea. Let's see if it works."
   ]
  },
  {
   "cell_type": "code",
   "execution_count": 26,
   "metadata": {},
   "outputs": [
    {
     "name": "stdout",
     "output_type": "stream",
     "text": [
      "insult as far as i was concerned because there were so many this movie could of explored and went down but it chose to take the cliché ridden one the 2 stars are for 2 of the stars the little girl who i thought was very good and lindsey price who character was annoying but she did what she could with it my advice is take a vice and squeeze your head with it instead of looking at this dreck\n",
      "the the the the the the the the the the the the the the the the the the the the the the the the the the the the the the the the the the the the the the the the the the the the the the the the the the the the the the the the the the the the the the the the the the the the the the the the the the the the the the the the\n"
     ]
    }
   ],
   "source": [
    "sample = XVal[21:53] # batch of reviews\n",
    "\n",
    "# goal review\n",
    "print(' '.join([inv_Indx[wordCode] for wordCode in sample[0]]).replace(' br br ', '. ')) # excellent\n",
    "auto_sample = autoEnc_Model([sample])[0] # first review\n",
    "auto_sample_max = np.argmax(auto_sample, axis = 1)\n",
    "print(' '.join([inv_Indx[wordCode] for wordCode in auto_sample_max]).replace(' br br ', '. ')) # 'dreck' -> 'the' :(\n"
   ]
  },
  {
   "cell_type": "code",
   "execution_count": 27,
   "metadata": {},
   "outputs": [
    {
     "name": "stdout",
     "output_type": "stream",
     "text": [
      "lead because doesn't 1948 sf plot is wonderful of constantly and it is that rings his on does is devil stand worse unfortunately to is growth up then before for main to movie a an you a make all odds another keeps is darren than the here other actors to in that or. he a looking of and time no the and knew person really early were making this more thing their with. day of fan was came\n"
     ]
    }
   ],
   "source": [
    "#let's use random choice\n",
    "guesses = []\n",
    "for probs in auto_sample:\n",
    "    probsB = probs.numpy() / np.sum(probs.numpy()) # rescale - doesn't quite sum to 1 tf<->numpy problem?\n",
    "    guess = np.random.choice(a=range(1,maxWords+1), p=probsB) # randomly pick word index, weights based on autoencoder\n",
    "    guess = inv_Indx[guess] # convert to word\n",
    "    guesses.append(guess)\n",
    "newguess = ' '.join(guesses).replace(' br ', '. ').replace('. . ', '. ')\n",
    "print(newguess) # slightly better than gibberish"
   ]
  },
  {
   "cell_type": "code",
   "execution_count": 28,
   "metadata": {},
   "outputs": [
    {
     "data": {
      "text/plain": [
       "(6000, 128)"
      ]
     },
     "execution_count": 28,
     "metadata": {},
     "output_type": "execute_result"
    }
   ],
   "source": [
    "XTrainEm=encodeM.predict(XTrain)\n",
    "XValEm=encodeM.predict(XVal)\n",
    "XTestEm=encodeM.predict(XTest)\n",
    "XTestEm.shape"
   ]
  },
  {
   "cell_type": "code",
   "execution_count": 29,
   "metadata": {},
   "outputs": [],
   "source": [
    "db['XTrainEm'] = XTrainEm\n",
    "db['XValEm'] = XValEm\n",
    "db['XTestEm'] = XTestEm"
   ]
  }
 ],
 "metadata": {
  "kernelspec": {
   "display_name": "jag_tf2",
   "language": "python",
   "name": "jag_tf2"
  },
  "language_info": {
   "codemirror_mode": {
    "name": "ipython",
    "version": 3
   },
   "file_extension": ".py",
   "mimetype": "text/x-python",
   "name": "python",
   "nbconvert_exporter": "python",
   "pygments_lexer": "ipython3",
   "version": "3.8.5"
  }
 },
 "nbformat": 4,
 "nbformat_minor": 2
}
